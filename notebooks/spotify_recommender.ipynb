{
 "cells": [
  {
   "cell_type": "code",
   "execution_count": null,
   "id": "6d2f532c",
   "metadata": {},
   "outputs": [],
   "source": [
    "# 모듈 불러오기\n",
    "\n",
    "import sys\n",
    "sys.path.append(\"../src/model\")\n",
    "\n",
    "from spotify_recommender import Recommender"
   ]
  },
  {
   "cell_type": "code",
   "execution_count": null,
   "id": "9bf2c4ae",
   "metadata": {},
   "outputs": [
    {
     "data": {
      "text/plain": [
       "<spotify_recommender.Recommender at 0x27a55c7f230>"
      ]
     },
     "execution_count": 13,
     "metadata": {},
     "output_type": "execute_result"
    }
   ],
   "source": [
    "# fit (학습)\n",
    "\n",
    "rec = Recommender(n_neighbors=20, metric=\"cosine\")\n",
    "rec.fit_from_csv(\n",
    "    csv_path=\"../dataset/processed/spotify_data_clean.csv\",\n",
    "    model_dir=\"../models\"\n",
    ")"
   ]
  },
  {
   "cell_type": "code",
   "execution_count": 14,
   "id": "6d14df61",
   "metadata": {},
   "outputs": [
    {
     "name": "stdout",
     "output_type": "stream",
     "text": [
      "   rank                track_id                         track_name  \\\n",
      "0     1  6PPF8F8LGXScI9py1zeD2U  Seven Nation Army - Piano Version   \n",
      "1     2  7gpOugvWq2g76J6bhXGlgy                             Spring   \n",
      "2     3  7zB0xysqnVbZZovSlppTHv             Lonely - Piano Version   \n",
      "3     4  5pq4v03P5PxMcnCagg4S3Z            In Case You Didn’t Know   \n",
      "4     5  1arB0eICekrhg2CAj2bGfR                     In Those Years   \n",
      "5     6  0Yhq08cXMbcH7tm89EIB2P                             Summer   \n",
      "6     7  6DjroQC7VdOOzC1DbwnKL4                     No Other Woman   \n",
      "7     8  3v54cwSHGYVCUHNcZWis69    White Christmas - Piano Version   \n",
      "8     9  5qzs925pSB9rD5v8tdu9CZ                        Cold Spring   \n",
      "9    10  5d0QudcWBSVC5ZzHJoUiB5                      Three Bridges   \n",
      "\n",
      "               artist_name  distance  \n",
      "0              Henry Smith  0.004361  \n",
      "1          Anna Sofia Nord  0.010947  \n",
      "2              Henry Smith  0.012954  \n",
      "3             Boyce Avenue  0.015589  \n",
      "4           Ray Hutchcraft  0.016252  \n",
      "5               Ola Gjeilo  0.017836  \n",
      "6  Magnus Ringblom Quartet  0.018525  \n",
      "7              Henry Smith  0.018608  \n",
      "8              Kyle McEvoy  0.018851  \n",
      "9        Juan María Solare  0.019424  \n"
     ]
    }
   ],
   "source": [
    "# recommend (추천)\n",
    "results = rec.recommend(\n",
    "    by=\"track_name\",\n",
    "    query=\"I'm Yours\",\n",
    "    top_k=10\n",
    ")\n",
    "print(results)"
   ]
  },
  {
   "cell_type": "code",
   "execution_count": 16,
   "id": "4dad498e",
   "metadata": {},
   "outputs": [],
   "source": [
    "# 저장\n",
    "rec.save(\"../models\")"
   ]
  },
  {
   "cell_type": "code",
   "execution_count": null,
   "id": "abf9ef83",
   "metadata": {},
   "outputs": [],
   "source": [
    "# 불러오기\n",
    "rec2 = Recommender.load(\"../models\")"
   ]
  }
 ],
 "metadata": {
  "kernelspec": {
   "display_name": "base",
   "language": "python",
   "name": "python3"
  },
  "language_info": {
   "codemirror_mode": {
    "name": "ipython",
    "version": 3
   },
   "file_extension": ".py",
   "mimetype": "text/x-python",
   "name": "python",
   "nbconvert_exporter": "python",
   "pygments_lexer": "ipython3",
   "version": "3.13.5"
  }
 },
 "nbformat": 4,
 "nbformat_minor": 5
}
