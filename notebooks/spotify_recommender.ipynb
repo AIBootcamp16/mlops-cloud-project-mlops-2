{
 "cells": [
  {
   "cell_type": "code",
   "execution_count": null,
   "id": "2db95b1b",
   "metadata": {},
   "outputs": [],
   "source": [
    "%load_ext autoreload\n",
    "%autoreload 2\n",
    "\n",
    "# import importlib\n",
    "# import spotify_recommender\n",
    "\n",
    "# importlib.reload(spotify_recommender)"
   ]
  },
  {
   "cell_type": "code",
   "execution_count": 4,
   "id": "6d2f532c",
   "metadata": {},
   "outputs": [],
   "source": [
    "# 모듈 불러오기\n",
    "\n",
    "import sys\n",
    "sys.path.append(\"../src/model\")\n",
    "\n",
    "from spotify_recommender import Recommender"
   ]
  },
  {
   "cell_type": "code",
   "execution_count": 5,
   "id": "9bf2c4ae",
   "metadata": {},
   "outputs": [
    {
     "data": {
      "text/plain": [
       "<spotify_recommender.Recommender at 0x261edd76d50>"
      ]
     },
     "execution_count": 5,
     "metadata": {},
     "output_type": "execute_result"
    }
   ],
   "source": [
    "# fit (학습)\n",
    "\n",
    "rec = Recommender(n_neighbors=20, metric=\"cosine\")\n",
    "rec.fit_from_csv(\n",
    "    csv_path=\"../dataset/processed/spotify_data_clean.csv\",\n",
    "    model_dir=\"../models\"\n",
    ")"
   ]
  },
  {
   "cell_type": "code",
   "execution_count": 6,
   "id": "6d14df61",
   "metadata": {},
   "outputs": [
    {
     "name": "stdout",
     "output_type": "stream",
     "text": [
      "   rank                track_id                         track_name  \\\n",
      "0     1  6PPF8F8LGXScI9py1zeD2U  Seven Nation Army - Piano Version   \n",
      "1     2  7gpOugvWq2g76J6bhXGlgy                             Spring   \n",
      "2     3  7zB0xysqnVbZZovSlppTHv             Lonely - Piano Version   \n",
      "3     4  5pq4v03P5PxMcnCagg4S3Z            In Case You Didn’t Know   \n",
      "4     5  1arB0eICekrhg2CAj2bGfR                     In Those Years   \n",
      "5     6  0Yhq08cXMbcH7tm89EIB2P                             Summer   \n",
      "6     7  6DjroQC7VdOOzC1DbwnKL4                     No Other Woman   \n",
      "7     8  3v54cwSHGYVCUHNcZWis69    White Christmas - Piano Version   \n",
      "8     9  5qzs925pSB9rD5v8tdu9CZ                        Cold Spring   \n",
      "9    10  5d0QudcWBSVC5ZzHJoUiB5                      Three Bridges   \n",
      "\n",
      "               artist_name  distance  \n",
      "0              Henry Smith  0.004361  \n",
      "1          Anna Sofia Nord  0.010947  \n",
      "2              Henry Smith  0.012954  \n",
      "3             Boyce Avenue  0.015589  \n",
      "4           Ray Hutchcraft  0.016252  \n",
      "5               Ola Gjeilo  0.017836  \n",
      "6  Magnus Ringblom Quartet  0.018525  \n",
      "7              Henry Smith  0.018608  \n",
      "8              Kyle McEvoy  0.018851  \n",
      "9        Juan María Solare  0.019424  \n"
     ]
    }
   ],
   "source": [
    "# recommend (추천)\n",
    "results = rec.recommend(\n",
    "    by=\"track_name\",\n",
    "    query=\"I'm Yours\",\n",
    "    top_k=10\n",
    ")\n",
    "print(results)"
   ]
  },
  {
   "cell_type": "code",
   "execution_count": 7,
   "id": "4dad498e",
   "metadata": {},
   "outputs": [],
   "source": [
    "# 저장\n",
    "rec.save(\"../models\")"
   ]
  },
  {
   "cell_type": "code",
   "execution_count": 8,
   "id": "abf9ef83",
   "metadata": {},
   "outputs": [],
   "source": [
    "# 불러오기\n",
    "rec2 = Recommender.load(\"../models\")"
   ]
  },
  {
   "cell_type": "code",
   "execution_count": null,
   "id": "09822942",
   "metadata": {},
   "outputs": [
    {
     "name": "stderr",
     "output_type": "stream",
     "text": [
      "C:\\Users\\id808\\Documents\\dev\\mlops-cloud-project-mlops-2\\src\\model\\spotify_recommender.py:130: DeprecationWarning: is_categorical_dtype is deprecated and will be removed in a future version. Use isinstance(dtype, pd.CategoricalDtype) instead\n",
      "  if pd.api.types.is_categorical_dtype(df[\"genre\"]):\n"
     ]
    },
    {
     "name": "stdout",
     "output_type": "stream",
     "text": [
      "Fitted and saved to ../models\n"
     ]
    }
   ],
   "source": [
    "# 학습 실행\n",
    "%run ../src/model/spotify_recommender.py fit --csv ../dataset/processed/spotify_data_clean.csv --model_dir ../models"
   ]
  },
  {
   "cell_type": "code",
   "execution_count": 5,
   "id": "c89a2120",
   "metadata": {},
   "outputs": [
    {
     "name": "stdout",
     "output_type": "stream",
     "text": [
      "soeun!!\n",
      "['5GxhZpPHgeN5uU6Q4fNrTo', '5KPmp3AYVAYb3Rv2Cbzqzp', '3u6qjHq0y3rmXRQa4iz9OD', '6VwpOZpqx8IqoF201VGAp8', '0DXmK0QaBycr8MpM52Kaeo', '14gmLQPNYokqB8OKxAp69f', '0FFsgUoFibYISzMxuGS61W', '1ObD1mQ91u4yBK46EYNCgl', '36Cs04fKrfupan7JZPBCYS', '5NXthnJecYXjt7sTEWETTY']\n",
      " rank               track_id                             track_name     artist_name  distance\n",
      "    1 5GxhZpPHgeN5uU6Q4fNrTo  God Knows (Must Be Love) - Radio Edit     Andrew Ripp  0.082257\n",
      "    2 5KPmp3AYVAYb3Rv2Cbzqzp                             Nightstand Justus Bennetts  0.091387\n",
      "    3 3u6qjHq0y3rmXRQa4iz9OD                 Never Learned To Dance    Medium Build  0.099239\n",
      "    4 6VwpOZpqx8IqoF201VGAp8                                  シャッター           Yuuri  0.100113\n",
      "    5 0DXmK0QaBycr8MpM52Kaeo                      Heaven - Acoustic     Niall Horan  0.101035\n",
      "    6 14gmLQPNYokqB8OKxAp69f                        War With Heaven           keshi  0.102955\n",
      "    7 0FFsgUoFibYISzMxuGS61W I Don't Do Drugs (feat. Ariana Grande)        Doja Cat  0.105108\n",
      "    8 1ObD1mQ91u4yBK46EYNCgl       Ten Cane Row (feat. Jorja Smith)         Protoje  0.108000\n",
      "    9 36Cs04fKrfupan7JZPBCYS                                 Softly      Amber Mark  0.109130\n",
      "   10 5NXthnJecYXjt7sTEWETTY                         life got crazy           mike.  0.110038\n"
     ]
    }
   ],
   "source": [
    "#추천 실행\n",
    "%run ../src/model/spotify_recommender.py rec --model_dir ../models --by track_name --q \"Find Your People\" --top_k 10"
   ]
  },
  {
   "cell_type": "code",
   "execution_count": null,
   "id": "9ab72ee0",
   "metadata": {},
   "outputs": [],
   "source": []
  }
 ],
 "metadata": {
  "kernelspec": {
   "display_name": "base",
   "language": "python",
   "name": "python3"
  },
  "language_info": {
   "codemirror_mode": {
    "name": "ipython",
    "version": 3
   },
   "file_extension": ".py",
   "mimetype": "text/x-python",
   "name": "python",
   "nbconvert_exporter": "python",
   "pygments_lexer": "ipython3",
   "version": "3.13.5"
  }
 },
 "nbformat": 4,
 "nbformat_minor": 5
}
